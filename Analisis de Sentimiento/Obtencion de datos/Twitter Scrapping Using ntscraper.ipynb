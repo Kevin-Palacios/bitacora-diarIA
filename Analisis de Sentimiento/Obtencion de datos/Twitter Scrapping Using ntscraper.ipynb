{
 "cells": [
  {
   "cell_type": "code",
   "execution_count": 1,
   "id": "b45ae4a8",
   "metadata": {},
   "outputs": [
    {
     "name": "stdout",
     "output_type": "stream",
     "text": [
      "05-Jan-24 20:55:22 - Note: NumExpr detected 16 cores but \"NUMEXPR_MAX_THREADS\" not set, so enforcing safe limit of 8.\n",
      "05-Jan-24 20:55:22 - NumExpr defaulting to 8 threads.\n"
     ]
    }
   ],
   "source": [
    "from ntscraper import Nitter\n",
    "import pandas as pd"
   ]
  },
  {
   "cell_type": "code",
   "execution_count": 2,
   "id": "c208d7fd",
   "metadata": {},
   "outputs": [
    {
     "name": "stderr",
     "output_type": "stream",
     "text": [
      "Testing instances: 100%|███████████████████████████████████████████████████████████████| 30/30 [01:22<00:00,  2.75s/it]\n"
     ]
    }
   ],
   "source": [
    "scraper = Nitter(0)"
   ]
  },
  {
   "cell_type": "code",
   "execution_count": 3,
   "id": "0014f85f",
   "metadata": {},
   "outputs": [],
   "source": [
    "terms = [\"Epstein\", \"Hawking\"]\n"
   ]
  },
  {
   "cell_type": "code",
   "execution_count": null,
   "id": "a27a7266",
   "metadata": {},
   "outputs": [],
   "source": [
    "tweets = scraper.get_tweets(terms, mode='term')\n",
    "tweets\n"
   ]
  },
  {
   "cell_type": "code",
   "execution_count": 14,
   "id": "7ac35edc",
   "metadata": {},
   "outputs": [
    {
     "data": {
      "text/plain": [
       "{'tweets': [], 'threads': []}"
      ]
     },
     "execution_count": 14,
     "metadata": {},
     "output_type": "execute_result"
    }
   ],
   "source": [
    "tweets[1]"
   ]
  },
  {
   "cell_type": "code",
   "execution_count": 21,
   "id": "a7135c97",
   "metadata": {},
   "outputs": [],
   "source": [
    "recopilation_tweets = []\n",
    "for tweet in tweets[0]['tweets']:\n",
    "    data = [tweet['user']['username'], tweet['text'],tweet['date']]\n",
    "    recopilation_tweets.append(data)"
   ]
  },
  {
   "cell_type": "code",
   "execution_count": 20,
   "id": "66cadac4",
   "metadata": {},
   "outputs": [
    {
     "data": {
      "text/plain": [
       "{'link': 'https://twitter.com/EndWokeness/status/1743249173292491181#m',\n",
       " 'text': 'BREAKING: Massive FBI raid conducted on the compound of an Epstein client.   Just kidding. This was a manhunt to find a January 6th protestor in NJ.',\n",
       " 'user': {'name': 'End Wokeness',\n",
       "  'username': '@EndWokeness',\n",
       "  'profile_id': '1563691268793946117',\n",
       "  'avatar': 'https://pbs.twimg.com/profile_images/1563691268793946117/OedvhFeS_bigger.jpg'},\n",
       " 'date': 'Jan 5, 2024 · 12:32 PM UTC',\n",
       " 'is-retweet': True,\n",
       " 'external-link': '',\n",
       " 'replying_to': [],\n",
       " 'quoted-post': {},\n",
       " 'stats': {'comments': 654, 'retweets': 5064, 'quotes': 187, 'likes': 27386},\n",
       " 'pictures': [],\n",
       " 'videos': ['https://video.twimg.com/amplify_video/1722474157437325312/pl/RK_7IKVJccrZT6a9.m3u8?tag=14&container=fmp4&v=09e'],\n",
       " 'gifs': []}"
      ]
     },
     "execution_count": 20,
     "metadata": {},
     "output_type": "execute_result"
    }
   ],
   "source": [
    "tweets[0]['tweets'][0]"
   ]
  },
  {
   "cell_type": "code",
   "execution_count": 23,
   "id": "04a42bbd",
   "metadata": {},
   "outputs": [
    {
     "data": {
      "text/html": [
       "<div>\n",
       "<style scoped>\n",
       "    .dataframe tbody tr th:only-of-type {\n",
       "        vertical-align: middle;\n",
       "    }\n",
       "\n",
       "    .dataframe tbody tr th {\n",
       "        vertical-align: top;\n",
       "    }\n",
       "\n",
       "    .dataframe thead th {\n",
       "        text-align: right;\n",
       "    }\n",
       "</style>\n",
       "<table border=\"1\" class=\"dataframe\">\n",
       "  <thead>\n",
       "    <tr style=\"text-align: right;\">\n",
       "      <th></th>\n",
       "      <th>username</th>\n",
       "      <th>tweet</th>\n",
       "      <th>date</th>\n",
       "    </tr>\n",
       "  </thead>\n",
       "  <tbody>\n",
       "    <tr>\n",
       "      <th>0</th>\n",
       "      <td>@EndWokeness</td>\n",
       "      <td>BREAKING: Massive FBI raid conducted on the co...</td>\n",
       "      <td>Jan 5, 2024 · 12:32 PM UTC</td>\n",
       "    </tr>\n",
       "    <tr>\n",
       "      <th>1</th>\n",
       "      <td>@bennyjohnson</td>\n",
       "      <td>Don’t let the Corporate Media fool you about E...</td>\n",
       "      <td>Jan 5, 2024 · 5:25 PM UTC</td>\n",
       "    </tr>\n",
       "    <tr>\n",
       "      <th>2</th>\n",
       "      <td>@FranciscaBadar1</td>\n",
       "      <td>🚨 ÚLTIMAS NOTÍCIAS: Os atores Leonardo DiCapri...</td>\n",
       "      <td>Jan 5, 2024 · 4:53 PM UTC</td>\n",
       "    </tr>\n",
       "    <tr>\n",
       "      <th>3</th>\n",
       "      <td>@f_philippot</td>\n",
       "      <td>Énorme ! Les juges le confirment aux médias am...</td>\n",
       "      <td>Jan 5, 2024 · 9:35 AM UTC</td>\n",
       "    </tr>\n",
       "    <tr>\n",
       "      <th>4</th>\n",
       "      <td>@JDunlap1974</td>\n",
       "      <td>The FBI is protecting Pedophiles #Epstein #Eps...</td>\n",
       "      <td>Jan 5, 2024 · 5:46 PM UTC</td>\n",
       "    </tr>\n",
       "    <tr>\n",
       "      <th>5</th>\n",
       "      <td>@LaurenJauregui</td>\n",
       "      <td>You know we’re lost as an entire people when t...</td>\n",
       "      <td>Jan 5, 2024 · 12:53 PM UTC</td>\n",
       "    </tr>\n",
       "    <tr>\n",
       "      <th>6</th>\n",
       "      <td>@Naina492</td>\n",
       "      <td>#المغدور_محمد_السبيعي #جيفري_إبستاين #PAKvsAUS...</td>\n",
       "      <td>Jan 5, 2024 · 5:37 PM UTC</td>\n",
       "    </tr>\n",
       "    <tr>\n",
       "      <th>7</th>\n",
       "      <td>@sleepypoprock</td>\n",
       "      <td>สรุปประเด็นสั้นๆที่กำลังฮือฮาในอเมริกาสัปดาห์น...</td>\n",
       "      <td>Jan 5, 2024 · 12:42 AM UTC</td>\n",
       "    </tr>\n",
       "    <tr>\n",
       "      <th>8</th>\n",
       "      <td>@riversmccown</td>\n",
       "      <td>Inspiring: This Man Did Not Come Back From Ach...</td>\n",
       "      <td>Jan 5, 2024 · 5:47 PM UTC</td>\n",
       "    </tr>\n",
       "    <tr>\n",
       "      <th>9</th>\n",
       "      <td>@bennyjohnson</td>\n",
       "      <td>FLASHBACK: Protester dragged out by the limbs ...</td>\n",
       "      <td>Jan 5, 2024 · 5:21 PM UTC</td>\n",
       "    </tr>\n",
       "  </tbody>\n",
       "</table>\n",
       "</div>"
      ],
      "text/plain": [
       "           username                                              tweet  \\\n",
       "0      @EndWokeness  BREAKING: Massive FBI raid conducted on the co...   \n",
       "1     @bennyjohnson  Don’t let the Corporate Media fool you about E...   \n",
       "2  @FranciscaBadar1  🚨 ÚLTIMAS NOTÍCIAS: Os atores Leonardo DiCapri...   \n",
       "3      @f_philippot  Énorme ! Les juges le confirment aux médias am...   \n",
       "4      @JDunlap1974  The FBI is protecting Pedophiles #Epstein #Eps...   \n",
       "5   @LaurenJauregui  You know we’re lost as an entire people when t...   \n",
       "6         @Naina492  #المغدور_محمد_السبيعي #جيفري_إبستاين #PAKvsAUS...   \n",
       "7    @sleepypoprock  สรุปประเด็นสั้นๆที่กำลังฮือฮาในอเมริกาสัปดาห์น...   \n",
       "8     @riversmccown  Inspiring: This Man Did Not Come Back From Ach...   \n",
       "9     @bennyjohnson  FLASHBACK: Protester dragged out by the limbs ...   \n",
       "\n",
       "                         date  \n",
       "0  Jan 5, 2024 · 12:32 PM UTC  \n",
       "1   Jan 5, 2024 · 5:25 PM UTC  \n",
       "2   Jan 5, 2024 · 4:53 PM UTC  \n",
       "3   Jan 5, 2024 · 9:35 AM UTC  \n",
       "4   Jan 5, 2024 · 5:46 PM UTC  \n",
       "5  Jan 5, 2024 · 12:53 PM UTC  \n",
       "6   Jan 5, 2024 · 5:37 PM UTC  \n",
       "7  Jan 5, 2024 · 12:42 AM UTC  \n",
       "8   Jan 5, 2024 · 5:47 PM UTC  \n",
       "9   Jan 5, 2024 · 5:21 PM UTC  "
      ]
     },
     "execution_count": 23,
     "metadata": {},
     "output_type": "execute_result"
    }
   ],
   "source": [
    "dataframe = pd.DataFrame(recopilation_tweets, columns = ['username', 'tweet', 'date'])\n",
    "dataframe"
   ]
  },
  {
   "cell_type": "code",
   "execution_count": 38,
   "id": "c894a7bd",
   "metadata": {},
   "outputs": [
    {
     "data": {
      "text/plain": [
       "'FLASHBACK: Protester dragged out by the limbs by Hillary Clinton’s security after asking her about Bill Clinton’s documented relationship with Epstein:  “Why did your husband visit Epstein island 26 times?”  It’s all starting to make sense now…'"
      ]
     },
     "execution_count": 38,
     "metadata": {},
     "output_type": "execute_result"
    }
   ],
   "source": [
    "dataframe.loc[9, 'tweet']"
   ]
  },
  {
   "cell_type": "code",
   "execution_count": null,
   "id": "37e8acd2",
   "metadata": {},
   "outputs": [],
   "source": []
  }
 ],
 "metadata": {
  "kernelspec": {
   "display_name": "Python 3 (ipykernel)",
   "language": "python",
   "name": "python3"
  },
  "language_info": {
   "codemirror_mode": {
    "name": "ipython",
    "version": 3
   },
   "file_extension": ".py",
   "mimetype": "text/x-python",
   "name": "python",
   "nbconvert_exporter": "python",
   "pygments_lexer": "ipython3",
   "version": "3.10.13"
  }
 },
 "nbformat": 4,
 "nbformat_minor": 5
}
