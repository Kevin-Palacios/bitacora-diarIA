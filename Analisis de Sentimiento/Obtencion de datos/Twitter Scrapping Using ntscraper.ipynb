{
 "cells": [
  {
   "cell_type": "code",
   "execution_count": 1,
   "id": "b45ae4a8",
   "metadata": {},
   "outputs": [
    {
     "name": "stdout",
     "output_type": "stream",
     "text": [
      "05-Jan-24 12:03:08 - Note: NumExpr detected 16 cores but \"NUMEXPR_MAX_THREADS\" not set, so enforcing safe limit of 8.\n",
      "05-Jan-24 12:03:08 - NumExpr defaulting to 8 threads.\n"
     ]
    }
   ],
   "source": [
    "from ntscraper import Nitter\n",
    "import pandas as pd"
   ]
  },
  {
   "cell_type": "code",
   "execution_count": 2,
   "id": "c208d7fd",
   "metadata": {},
   "outputs": [
    {
     "name": "stderr",
     "output_type": "stream",
     "text": [
      "Testing instances: 100%|███████████████████████████████████████████████████████████████| 30/30 [01:10<00:00,  2.35s/it]\n"
     ]
    }
   ],
   "source": [
    "scraper = Nitter(0)"
   ]
  },
  {
   "cell_type": "code",
   "execution_count": 7,
   "id": "0014f85f",
   "metadata": {},
   "outputs": [],
   "source": [
    "terms = [\"Epstein\", \"Hawking\"]\n"
   ]
  },
  {
   "cell_type": "code",
   "execution_count": 8,
   "id": "a27a7266",
   "metadata": {},
   "outputs": [],
   "source": [
    "tweets = scraper.get_tweets(terms, mode='term', number = 10)\n",
    "tweets"
   ]
  },
  {
   "cell_type": "code",
   "execution_count": 12,
   "id": "7ac35edc",
   "metadata": {},
   "outputs": [
    {
     "data": {
      "text/plain": [
       "{'tweets': [{'link': 'https://twitter.com/EndWokeness/status/1743249173292491181#m',\n",
       "   'text': 'BREAKING: Massive FBI raid conducted on the compound of an Epstein client.   Just kidding. This was a manhunt to find a January 6th protestor in NJ.',\n",
       "   'user': {'name': 'End Wokeness',\n",
       "    'username': '@EndWokeness',\n",
       "    'profile_id': '1563691268793946117',\n",
       "    'avatar': 'https://pbs.twimg.com/profile_images/1563691268793946117/OedvhFeS_bigger.jpg'},\n",
       "   'date': 'Jan 5, 2024 · 12:32 PM UTC',\n",
       "   'is-retweet': True,\n",
       "   'external-link': '',\n",
       "   'replying_to': [],\n",
       "   'quoted-post': {},\n",
       "   'stats': {'comments': 654, 'retweets': 5064, 'quotes': 187, 'likes': 27386},\n",
       "   'pictures': [],\n",
       "   'videos': ['https://video.twimg.com/amplify_video/1722474157437325312/pl/RK_7IKVJccrZT6a9.m3u8?tag=14&container=fmp4&v=09e'],\n",
       "   'gifs': []},\n",
       "  {'link': 'https://twitter.com/bennyjohnson/status/1743322806589256159#m',\n",
       "   'text': 'Don’t let the Corporate Media fool you about Epstein BOMBSHELL docs— the latest PSY-OP launched against Trump to protect Bill Clinton',\n",
       "   'user': {'name': 'Benny Johnson',\n",
       "    'username': '@bennyjohnson',\n",
       "    'profile_id': '1628474658583457793',\n",
       "    'avatar': 'https://pbs.twimg.com/profile_images/1628474658583457793/KRPfh8Zb_bigger.jpg'},\n",
       "   'date': 'Jan 5, 2024 · 5:25 PM UTC',\n",
       "   'is-retweet': True,\n",
       "   'external-link': '',\n",
       "   'replying_to': [],\n",
       "   'quoted-post': {},\n",
       "   'stats': {'comments': 74, 'retweets': 281, 'quotes': 8, 'likes': 740},\n",
       "   'pictures': [],\n",
       "   'videos': ['https://video.twimg.com/amplify_video/1743322682286829568/pl/tjtCl_1-4_sK36VX.m3u8?tag=14&container=fmp4'],\n",
       "   'gifs': []},\n",
       "  {'link': 'https://twitter.com/FranciscaBadar1/status/1743314811360809332#m',\n",
       "   'text': '🚨 ÚLTIMAS NOTÍCIAS: Os atores Leonardo DiCaprio, Kevin Spacey, entre outros, foram citados como testemunhas no caso Jeffrey Epstein. DiCaprio foi descrito como um “telefonista frequente”. Mel Gibson sempre teve razão, Hollywood é um ninho de pedófilos. ‼️',\n",
       "   'user': {'name': 'Francisca',\n",
       "    'username': '@FranciscaBadar1',\n",
       "    'profile_id': '1570223594776530944',\n",
       "    'avatar': 'https://pbs.twimg.com/profile_images/1570223594776530944/NZaR58ZW_bigger.jpg'},\n",
       "   'date': 'Jan 5, 2024 · 4:53 PM UTC',\n",
       "   'is-retweet': True,\n",
       "   'external-link': '',\n",
       "   'replying_to': [],\n",
       "   'quoted-post': {},\n",
       "   'stats': {'comments': 9, 'retweets': 187, 'quotes': 6, 'likes': 682},\n",
       "   'pictures': ['https://pbs.twimg.com/media/GDF_lHRWwAAE6vY.jpg'],\n",
       "   'videos': [],\n",
       "   'gifs': []},\n",
       "  {'link': 'https://twitter.com/f_philippot/status/1743204577501945969#m',\n",
       "   'text': 'Énorme ! Les juges le confirment aux médias américains ce matin : ne sont sortis pour le moment qu’un quart des documents #Epstein qui vont sortir dans les prochains jours et semaines !  Les médias américains sortent beaucoup d’articles, en France c’est bien bien plus calme !…  Dans la livraison d’hier, la deuxième, on en apprend notamment sur les pressions de Bill #Clinton sur les médias pour ne rien sortir sur «\\xa0son ami Epstein\\xa0» ! (cf : https://www.foxnews.com/us/jeffrey-epstein-list-2nd-batch-documents-unsealed-ghislaine-maxwell-lawsuit)  Les noms français sont très attendus !',\n",
       "   'user': {'name': 'Florian Philippot',\n",
       "    'username': '@f_philippot',\n",
       "    'profile_id': '1490026667506638850',\n",
       "    'avatar': 'https://pbs.twimg.com/profile_images/1490026667506638850/xI3I176u_bigger.jpg'},\n",
       "   'date': 'Jan 5, 2024 · 9:35 AM UTC',\n",
       "   'is-retweet': True,\n",
       "   'external-link': '',\n",
       "   'replying_to': [],\n",
       "   'quoted-post': {},\n",
       "   'stats': {'comments': 199, 'retweets': 1171, 'quotes': 38, 'likes': 2398},\n",
       "   'pictures': ['https://pbs.twimg.com/media/GDEbUsRW4AAoY4M.jpg'],\n",
       "   'videos': [],\n",
       "   'gifs': []},\n",
       "  {'link': 'https://twitter.com/JDunlap1974/status/1743328138052931744#m',\n",
       "   'text': 'The FBI is protecting Pedophiles #Epstein #EpsteinList #EpsteinIsland',\n",
       "   'user': {'name': '🇺🇸🇺🇸Josh Dunlap🇺🇲🇺🇲 ULTRA-MAGA',\n",
       "    'username': '@JDunlap1974',\n",
       "    'profile_id': '1624846748656050180',\n",
       "    'avatar': 'https://pbs.twimg.com/profile_images/1624846748656050180/8M_fA-In_bigger.jpg'},\n",
       "   'date': 'Jan 5, 2024 · 5:46 PM UTC',\n",
       "   'is-retweet': True,\n",
       "   'external-link': '',\n",
       "   'replying_to': [],\n",
       "   'quoted-post': {},\n",
       "   'stats': {'comments': 2, 'retweets': 15, 'quotes': 1, 'likes': 31},\n",
       "   'pictures': ['https://pbs.twimg.com/media/GDGLs_7WcAAcdcY.jpg'],\n",
       "   'videos': [],\n",
       "   'gifs': []},\n",
       "  {'link': 'https://twitter.com/LaurenJauregui/status/1743254458773971296#m',\n",
       "   'text': 'You know we’re lost as an entire people when this Epstein list will lead to more jokes about child sex trafficking and pedophilia than arrests. Disgusting ass society,',\n",
       "   'user': {'name': 'Lauren Jauregui',\n",
       "    'username': '@LaurenJauregui',\n",
       "    'profile_id': '1663271767685890050',\n",
       "    'avatar': 'https://pbs.twimg.com/profile_images/1663271767685890050/G7blC8_L_bigger.jpg'},\n",
       "   'date': 'Jan 5, 2024 · 12:53 PM UTC',\n",
       "   'is-retweet': True,\n",
       "   'external-link': '',\n",
       "   'replying_to': [],\n",
       "   'quoted-post': {},\n",
       "   'stats': {'comments': 101, 'retweets': 4845, 'quotes': 52, 'likes': 17800},\n",
       "   'pictures': [],\n",
       "   'videos': [],\n",
       "   'gifs': []},\n",
       "  {'link': 'https://twitter.com/Naina492/status/1743325800110170228#m',\n",
       "   'text': '#المغدور_محمد_السبيعي #جيفري_إبستاين #PAKvsAUS #Epstein #EpsteinList #trumu #T20WorldCup2024 #AyalaanTrailer #AUSvPAK #njdash',\n",
       "   'user': {'name': 'Naina',\n",
       "    'username': '@Naina492',\n",
       "    'profile_id': '1730961264061378560',\n",
       "    'avatar': 'https://pbs.twimg.com/profile_images/1730961264061378560/gHgcjiuo_bigger.jpg'},\n",
       "   'date': 'Jan 5, 2024 · 5:37 PM UTC',\n",
       "   'is-retweet': True,\n",
       "   'external-link': '',\n",
       "   'replying_to': [],\n",
       "   'quoted-post': {},\n",
       "   'stats': {'comments': 0, 'retweets': 1, 'quotes': 0, 'likes': 1},\n",
       "   'pictures': ['https://pbs.twimg.com/media/GDGJk6eXgAAhyb1.jpg'],\n",
       "   'videos': [],\n",
       "   'gifs': []},\n",
       "  {'link': 'https://twitter.com/sleepypoprock/status/1743070432000151623#m',\n",
       "   'text': 'สรุปประเด็นสั้นๆที่กำลังฮือฮาในอเมริกาสัปดาห์นี้ คือ Jeffrey Epstein นักการเงิน เศรษฐีคนดังที่ฆ่าตัวตายในคุกไปเมื่อปี 2019 จากคดีทางเพศ (เป็นนายหน้าจัดหาเด็กสาว/ผู้หญิง/บังคับขืนใจ)  FBI เปิดเผยว่ามีรายชื่อคนดังกว่า 200 รายชื่อที่กำลังจะเปิดเผยสู่สารธารณะ โดยคนดัง/นางแบบ/นักการเมือง/นักแสดงฮอลีวูด/นักธุรกิจ เหล่านี้ มีทั้งคนที่กระทำความผิดจริง และคนที่เกี่ยวข้องกับกิจกรรมต่างๆของ Epstein (แต่ไม่มีมูลความผิด)  สิ่งที่ FBI พบคือ Epstein จะมีเกาะส่วนตัวที่มีคฤหาสน์ของเขาตั้งอยู่ โดยคฤหาสน์แห่งนี้คือ สถานที่ที่เขาใช้ในการรับรองแขกและพาผู้หญิงมาบริการเพื่อนๆ คนดังคนอื่นๆ รวมทั้งตัวเขาเอง โดยเกิดคดีความขึ้นเพราะมีหญิงสาวรายหนึ่งฟ้องร้องในคดีข่มขืนและค้ามนุษย์ ซึ่งมีมูลทำให้ FBI สานต่อนำมาสู่การจับกุมตัว เจฟฟรี่ เอปสไตน์ จนเจ้าตัวทนความอับอายไม่ไหว ฆ่าตัวตายในคุกก่อนขึ้นศาลในปี 2019  หญิงสาวที่ถูกหลอกมา/หรือมาด้วยความสมัครใจ ต้องให้บริการทางเพศหลายรูปแบบ และยังมีหลายรายที่ยังเป็นผู้เยาว์ (ในปีนั้นๆ) ซึ่งบรรดาคนดังรีเควสเป็นพิเศษ ซึ่งเป็นคดีที่อื้อฉาวมาก เพราะมีรายชื่อผู้มีอิทธิพลทางสังคมจำนวนมากในเหตุการณ์นี้ ทั้งผู้หญิง/ผู้ชาย  บางรายเพียงแค่มีการทำธุรกิจ หรือเจรจาธุรกิจร่วมกัน แต่ไม่มีหลักฐานว่าได้ใช้บริการทางเพศ แต่ FBI เพ่งเล็งไปที่รายชื่อที่ใช้เครื่องบินเจ็ทของเอปสไตน์เป็นประจำ รวมทั้งคนที่มาเยือนเกาะนี้อย่างต่อเนื่อง เพราะเป็นสถานที่ที่เขาใช้สำหรับการกระทำความผิดนั่นเอง  เกาะนี้ถูกซุบซิบในแวดวงคนดัง ด้วยชื่อเรียกว่า “เกาะแห่งบาป” และ “เกาะเฒ่าหัวงู” (Island of Sin/Pedophile Island)  ยังมีการเปิดเผยรายชื่อคนดังและรายละเอียดของคดีอย่างต่อเนื่อง แต่ยังเปิดไม่หมด เสิร์ชหาข่าวอัพเดทกันต่อได้เลย',\n",
       "   'user': {'name': 'penne 🍝',\n",
       "    'username': '@sleepypoprock',\n",
       "    'profile_id': '1646627656400785408',\n",
       "    'avatar': 'https://pbs.twimg.com/profile_images/1646627656400785408/mhqtuNVk_bigger.jpg'},\n",
       "   'date': 'Jan 5, 2024 · 12:42 AM UTC',\n",
       "   'is-retweet': True,\n",
       "   'external-link': '',\n",
       "   'replying_to': [],\n",
       "   'quoted-post': {},\n",
       "   'stats': {'comments': 8, 'retweets': 9107, 'quotes': 71, 'likes': 2489},\n",
       "   'pictures': ['https://pbs.twimg.com/media/GDChUNfbwAAxTio.jpg',\n",
       "    'https://pbs.twimg.com/media/GDChUNgbEAAnDEM.jpg'],\n",
       "   'videos': [],\n",
       "   'gifs': []},\n",
       "  {'link': 'https://twitter.com/riversmccown/status/1743328308991799519#m',\n",
       "   'text': 'Inspiring: This Man Did Not Come Back From Achilles Tear Early But Made NFL Insiders Talk About It While Using His Radio Appearances To Speculate About Who On Epstein List',\n",
       "   'user': {'name': 'Rivers McCown',\n",
       "    'username': '@riversmccown',\n",
       "    'profile_id': '1564653988548599808',\n",
       "    'avatar': 'https://pbs.twimg.com/profile_images/1564653988548599808/OHvVUjh7_bigger.jpg'},\n",
       "   'date': 'Jan 5, 2024 · 5:47 PM UTC',\n",
       "   'is-retweet': True,\n",
       "   'external-link': '',\n",
       "   'replying_to': [],\n",
       "   'quoted-post': {'link': 'https://twitter.com/RichCimini/status/1743320677006876891#m',\n",
       "    'text': 'Story: Aaron Rodgers voted most inspirational Jet by teammates. #Jets https://www.espn.com/nfl/story/_/id/39247718/aaron-rodgers-voted-most-inspirational-jets-teammates',\n",
       "    'user': {'name': 'Rich Cimini',\n",
       "     'username': '@RichCimini',\n",
       "     'profile_id': '501131821958963200',\n",
       "     'avatar': 'https://pbs.twimg.com/profile_images/501131821958963200/lW31qU_D_mini.jpeg'},\n",
       "    'date': 'Jan 5, 2024 · 5:16 PM UTC',\n",
       "    'pictures': [],\n",
       "    'videos': [],\n",
       "    'gifs': []},\n",
       "   'stats': {'comments': 4, 'retweets': 8, 'quotes': 0, 'likes': 54},\n",
       "   'pictures': [],\n",
       "   'videos': [],\n",
       "   'gifs': []},\n",
       "  {'link': 'https://twitter.com/bennyjohnson/status/1743321771158143011#m',\n",
       "   'text': 'FLASHBACK: Protester dragged out by the limbs by Hillary Clinton’s security after asking her about Bill Clinton’s documented relationship with Epstein:  “Why did your husband visit Epstein island 26 times?”  It’s all starting to make sense now…',\n",
       "   'user': {'name': 'Benny Johnson',\n",
       "    'username': '@bennyjohnson',\n",
       "    'profile_id': '1628474658583457793',\n",
       "    'avatar': 'https://pbs.twimg.com/profile_images/1628474658583457793/KRPfh8Zb_bigger.jpg'},\n",
       "   'date': 'Jan 5, 2024 · 5:21 PM UTC',\n",
       "   'is-retweet': True,\n",
       "   'external-link': '',\n",
       "   'replying_to': [],\n",
       "   'quoted-post': {},\n",
       "   'stats': {'comments': 72, 'retweets': 359, 'quotes': 11, 'likes': 1318},\n",
       "   'pictures': [],\n",
       "   'videos': ['https://video.twimg.com/amplify_video/1743321706855337984/pl/8zLMebuE0_SC1lOx.m3u8?tag=14&container=fmp4'],\n",
       "   'gifs': []}],\n",
       " 'threads': []}"
      ]
     },
     "execution_count": 12,
     "metadata": {},
     "output_type": "execute_result"
    }
   ],
   "source": [
    "tweets[0]"
   ]
  },
  {
   "cell_type": "code",
   "execution_count": 21,
   "id": "a7135c97",
   "metadata": {},
   "outputs": [],
   "source": [
    "recopilation_tweets = []\n",
    "for tweet in tweets[0]['tweets']:\n",
    "    data = [tweet['user']['username'], tweet['text'],tweet['date']]\n",
    "    recopilation_tweets.append(data)"
   ]
  },
  {
   "cell_type": "code",
   "execution_count": 20,
   "id": "66cadac4",
   "metadata": {},
   "outputs": [
    {
     "data": {
      "text/plain": [
       "{'link': 'https://twitter.com/EndWokeness/status/1743249173292491181#m',\n",
       " 'text': 'BREAKING: Massive FBI raid conducted on the compound of an Epstein client.   Just kidding. This was a manhunt to find a January 6th protestor in NJ.',\n",
       " 'user': {'name': 'End Wokeness',\n",
       "  'username': '@EndWokeness',\n",
       "  'profile_id': '1563691268793946117',\n",
       "  'avatar': 'https://pbs.twimg.com/profile_images/1563691268793946117/OedvhFeS_bigger.jpg'},\n",
       " 'date': 'Jan 5, 2024 · 12:32 PM UTC',\n",
       " 'is-retweet': True,\n",
       " 'external-link': '',\n",
       " 'replying_to': [],\n",
       " 'quoted-post': {},\n",
       " 'stats': {'comments': 654, 'retweets': 5064, 'quotes': 187, 'likes': 27386},\n",
       " 'pictures': [],\n",
       " 'videos': ['https://video.twimg.com/amplify_video/1722474157437325312/pl/RK_7IKVJccrZT6a9.m3u8?tag=14&container=fmp4&v=09e'],\n",
       " 'gifs': []}"
      ]
     },
     "execution_count": 20,
     "metadata": {},
     "output_type": "execute_result"
    }
   ],
   "source": [
    "tweets[0]['tweets'][0]"
   ]
  },
  {
   "cell_type": "code",
   "execution_count": 23,
   "id": "04a42bbd",
   "metadata": {},
   "outputs": [
    {
     "data": {
      "text/html": [
       "<div>\n",
       "<style scoped>\n",
       "    .dataframe tbody tr th:only-of-type {\n",
       "        vertical-align: middle;\n",
       "    }\n",
       "\n",
       "    .dataframe tbody tr th {\n",
       "        vertical-align: top;\n",
       "    }\n",
       "\n",
       "    .dataframe thead th {\n",
       "        text-align: right;\n",
       "    }\n",
       "</style>\n",
       "<table border=\"1\" class=\"dataframe\">\n",
       "  <thead>\n",
       "    <tr style=\"text-align: right;\">\n",
       "      <th></th>\n",
       "      <th>username</th>\n",
       "      <th>tweet</th>\n",
       "      <th>date</th>\n",
       "    </tr>\n",
       "  </thead>\n",
       "  <tbody>\n",
       "    <tr>\n",
       "      <th>0</th>\n",
       "      <td>@EndWokeness</td>\n",
       "      <td>BREAKING: Massive FBI raid conducted on the co...</td>\n",
       "      <td>Jan 5, 2024 · 12:32 PM UTC</td>\n",
       "    </tr>\n",
       "    <tr>\n",
       "      <th>1</th>\n",
       "      <td>@bennyjohnson</td>\n",
       "      <td>Don’t let the Corporate Media fool you about E...</td>\n",
       "      <td>Jan 5, 2024 · 5:25 PM UTC</td>\n",
       "    </tr>\n",
       "    <tr>\n",
       "      <th>2</th>\n",
       "      <td>@FranciscaBadar1</td>\n",
       "      <td>🚨 ÚLTIMAS NOTÍCIAS: Os atores Leonardo DiCapri...</td>\n",
       "      <td>Jan 5, 2024 · 4:53 PM UTC</td>\n",
       "    </tr>\n",
       "    <tr>\n",
       "      <th>3</th>\n",
       "      <td>@f_philippot</td>\n",
       "      <td>Énorme ! Les juges le confirment aux médias am...</td>\n",
       "      <td>Jan 5, 2024 · 9:35 AM UTC</td>\n",
       "    </tr>\n",
       "    <tr>\n",
       "      <th>4</th>\n",
       "      <td>@JDunlap1974</td>\n",
       "      <td>The FBI is protecting Pedophiles #Epstein #Eps...</td>\n",
       "      <td>Jan 5, 2024 · 5:46 PM UTC</td>\n",
       "    </tr>\n",
       "    <tr>\n",
       "      <th>5</th>\n",
       "      <td>@LaurenJauregui</td>\n",
       "      <td>You know we’re lost as an entire people when t...</td>\n",
       "      <td>Jan 5, 2024 · 12:53 PM UTC</td>\n",
       "    </tr>\n",
       "    <tr>\n",
       "      <th>6</th>\n",
       "      <td>@Naina492</td>\n",
       "      <td>#المغدور_محمد_السبيعي #جيفري_إبستاين #PAKvsAUS...</td>\n",
       "      <td>Jan 5, 2024 · 5:37 PM UTC</td>\n",
       "    </tr>\n",
       "    <tr>\n",
       "      <th>7</th>\n",
       "      <td>@sleepypoprock</td>\n",
       "      <td>สรุปประเด็นสั้นๆที่กำลังฮือฮาในอเมริกาสัปดาห์น...</td>\n",
       "      <td>Jan 5, 2024 · 12:42 AM UTC</td>\n",
       "    </tr>\n",
       "    <tr>\n",
       "      <th>8</th>\n",
       "      <td>@riversmccown</td>\n",
       "      <td>Inspiring: This Man Did Not Come Back From Ach...</td>\n",
       "      <td>Jan 5, 2024 · 5:47 PM UTC</td>\n",
       "    </tr>\n",
       "    <tr>\n",
       "      <th>9</th>\n",
       "      <td>@bennyjohnson</td>\n",
       "      <td>FLASHBACK: Protester dragged out by the limbs ...</td>\n",
       "      <td>Jan 5, 2024 · 5:21 PM UTC</td>\n",
       "    </tr>\n",
       "  </tbody>\n",
       "</table>\n",
       "</div>"
      ],
      "text/plain": [
       "           username                                              tweet  \\\n",
       "0      @EndWokeness  BREAKING: Massive FBI raid conducted on the co...   \n",
       "1     @bennyjohnson  Don’t let the Corporate Media fool you about E...   \n",
       "2  @FranciscaBadar1  🚨 ÚLTIMAS NOTÍCIAS: Os atores Leonardo DiCapri...   \n",
       "3      @f_philippot  Énorme ! Les juges le confirment aux médias am...   \n",
       "4      @JDunlap1974  The FBI is protecting Pedophiles #Epstein #Eps...   \n",
       "5   @LaurenJauregui  You know we’re lost as an entire people when t...   \n",
       "6         @Naina492  #المغدور_محمد_السبيعي #جيفري_إبستاين #PAKvsAUS...   \n",
       "7    @sleepypoprock  สรุปประเด็นสั้นๆที่กำลังฮือฮาในอเมริกาสัปดาห์น...   \n",
       "8     @riversmccown  Inspiring: This Man Did Not Come Back From Ach...   \n",
       "9     @bennyjohnson  FLASHBACK: Protester dragged out by the limbs ...   \n",
       "\n",
       "                         date  \n",
       "0  Jan 5, 2024 · 12:32 PM UTC  \n",
       "1   Jan 5, 2024 · 5:25 PM UTC  \n",
       "2   Jan 5, 2024 · 4:53 PM UTC  \n",
       "3   Jan 5, 2024 · 9:35 AM UTC  \n",
       "4   Jan 5, 2024 · 5:46 PM UTC  \n",
       "5  Jan 5, 2024 · 12:53 PM UTC  \n",
       "6   Jan 5, 2024 · 5:37 PM UTC  \n",
       "7  Jan 5, 2024 · 12:42 AM UTC  \n",
       "8   Jan 5, 2024 · 5:47 PM UTC  \n",
       "9   Jan 5, 2024 · 5:21 PM UTC  "
      ]
     },
     "execution_count": 23,
     "metadata": {},
     "output_type": "execute_result"
    }
   ],
   "source": [
    "dataframe = pd.DataFrame(recopilation_tweets, columns = ['username', 'tweet', 'date'])\n",
    "dataframe"
   ]
  },
  {
   "cell_type": "code",
   "execution_count": 38,
   "id": "c894a7bd",
   "metadata": {},
   "outputs": [
    {
     "data": {
      "text/plain": [
       "'FLASHBACK: Protester dragged out by the limbs by Hillary Clinton’s security after asking her about Bill Clinton’s documented relationship with Epstein:  “Why did your husband visit Epstein island 26 times?”  It’s all starting to make sense now…'"
      ]
     },
     "execution_count": 38,
     "metadata": {},
     "output_type": "execute_result"
    }
   ],
   "source": [
    "dataframe.loc[9, 'tweet']"
   ]
  },
  {
   "cell_type": "code",
   "execution_count": null,
   "id": "37e8acd2",
   "metadata": {},
   "outputs": [],
   "source": []
  }
 ],
 "metadata": {
  "kernelspec": {
   "display_name": "Python 3 (ipykernel)",
   "language": "python",
   "name": "python3"
  },
  "language_info": {
   "codemirror_mode": {
    "name": "ipython",
    "version": 3
   },
   "file_extension": ".py",
   "mimetype": "text/x-python",
   "name": "python",
   "nbconvert_exporter": "python",
   "pygments_lexer": "ipython3",
   "version": "3.10.13"
  }
 },
 "nbformat": 4,
 "nbformat_minor": 5
}
